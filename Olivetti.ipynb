{
 "cells": [
  {
   "cell_type": "code",
   "execution_count": 2,
   "metadata": {},
   "outputs": [],
   "source": [
    "import numpy as np\n",
    "import matplotlib.pyplot as plt\n",
    "import seaborn as sns\n",
    "import pandas as pd\n",
    "\n",
    "%matplotlib inline"
   ]
  },
  {
   "cell_type": "code",
   "execution_count": 3,
   "metadata": {},
   "outputs": [],
   "source": [
    "from sklearn.datasets import fetch_olivetti_faces"
   ]
  },
  {
   "cell_type": "code",
   "execution_count": 4,
   "metadata": {},
   "outputs": [],
   "source": [
    "ovf = fetch_olivetti_faces()"
   ]
  },
  {
   "cell_type": "code",
   "execution_count": 5,
   "metadata": {},
   "outputs": [],
   "source": [
    "df = pd.DataFrame(ovf.data)\n",
    "actual = pd.DataFrame(ovf.target, columns=['results'])"
   ]
  },
  {
   "cell_type": "code",
   "execution_count": 6,
   "metadata": {},
   "outputs": [
    {
     "data": {
      "text/plain": [
       "(400, 4096)"
      ]
     },
     "execution_count": 6,
     "metadata": {},
     "output_type": "execute_result"
    }
   ],
   "source": [
    "df.shape"
   ]
  },
  {
   "cell_type": "code",
   "execution_count": 7,
   "metadata": {},
   "outputs": [
    {
     "data": {
      "image/png": "[encoded data removed]",
      "text/plain": [
       "<Figure size 432x288 with 2 Axes>"
      ]
     },
     "metadata": {
      "needs_background": "light"
     },
     "output_type": "display_data"
    }
   ],
   "source": [
    "plt.figure()\n",
    "plt.imshow(ovf.images[2])\n",
    "plt.colorbar()\n",
    "plt.grid(False)\n",
    "plt.show()"
   ]
  },
  {
   "cell_type": "code",
   "execution_count": 8,
   "metadata": {},
   "outputs": [],
   "source": [
    "from sklearn.model_selection import train_test_split\n",
    "y = actual['results'].ravel()"
   ]
  },
  {
   "cell_type": "code",
   "execution_count": 9,
   "metadata": {},
   "outputs": [],
   "source": [
    "X_train, X_test, y_train, y_test = train_test_split(df, y, test_size=0.2, random_state=0)"
   ]
  },
  {
   "cell_type": "code",
   "execution_count": 10,
   "metadata": {},
   "outputs": [],
   "source": [
    "from sklearn.linear_model import LogisticRegression\n",
    "lr = LogisticRegression(solver='lbfgs', multi_class='auto', max_iter = 10000)"
   ]
  },
  {
   "cell_type": "code",
   "execution_count": 11,
   "metadata": {},
   "outputs": [
    {
     "data": {
      "text/plain": [
       "LogisticRegression(C=1.0, class_weight=None, dual=False, fit_intercept=True,\n",
       "                   intercept_scaling=1, l1_ratio=None, max_iter=10000,\n",
       "                   multi_class='auto', n_jobs=None, penalty='l2',\n",
       "                   random_state=None, solver='lbfgs', tol=0.0001, verbose=0,\n",
       "                   warm_start=False)"
      ]
     },
     "execution_count": 11,
     "metadata": {},
     "output_type": "execute_result"
    }
   ],
   "source": [
    "lr.fit(X_train, y_train)"
   ]
  },
  {
   "cell_type": "code",
   "execution_count": 26,
   "metadata": {},
   "outputs": [],
   "source": [
    "lr_predict = lr.predict(X_test)"
   ]
  },
  {
   "cell_type": "code",
   "execution_count": 27,
   "metadata": {},
   "outputs": [],
   "source": [
    "from sklearn.metrics import confusion_matrix\n",
    "from sklearn.metrics import precision_score\n",
    "from sklearn.metrics import f1_score\n",
    "from sklearn.metrics import recall_score"
   ]
  },
  {
   "cell_type": "code",
   "execution_count": 28,
   "metadata": {},
   "outputs": [
    {
     "data": {
      "text/plain": [
       "array([[4, 0, 0, ..., 0, 0, 0],\n",
       "       [0, 4, 0, ..., 0, 0, 0],\n",
       "       [0, 0, 2, ..., 0, 0, 0],\n",
       "       ...,\n",
       "       [0, 0, 0, ..., 2, 0, 0],\n",
       "       [0, 0, 0, ..., 0, 2, 0],\n",
       "       [0, 0, 0, ..., 0, 0, 1]], dtype=int64)"
      ]
     },
     "execution_count": 28,
     "metadata": {},
     "output_type": "execute_result"
    }
   ],
   "source": [
    "confusion_matrix(y_test, lr_predict)"
   ]
  },
  {
   "cell_type": "code",
   "execution_count": 31,
   "metadata": {},
   "outputs": [
    {
     "name": "stdout",
     "output_type": "stream",
     "text": [
      "0.9625\n",
      "0.9481481481481482\n",
      "0.9574074074074075\n",
      "0.9518518518518518\n"
     ]
    },
    {
     "name": "stderr",
     "output_type": "stream",
     "text": [
      "C:\\Users\\AdamK\\Anaconda3\\lib\\site-packages\\sklearn\\metrics\\classification.py:1437: UndefinedMetricWarning: Precision is ill-defined and being set to 0.0 in labels with no predicted samples.\n",
      "  'precision', 'predicted', average, warn_for)\n",
      "C:\\Users\\AdamK\\Anaconda3\\lib\\site-packages\\sklearn\\metrics\\classification.py:1437: UndefinedMetricWarning: F-score is ill-defined and being set to 0.0 in labels with no predicted samples.\n",
      "  'precision', 'predicted', average, warn_for)\n"
     ]
    }
   ],
   "source": [
    "print(lr.score(X_test, y_test))\n",
    "print(precision_score(y_test, lr_predict, average='macro'))\n",
    "print(recall_score(y_test, lr_predict, average='macro'))\n",
    "print(f1_score(y_test, lr_predict, average='macro'))"
   ]
  },
  {
   "cell_type": "code",
   "execution_count": 16,
   "metadata": {},
   "outputs": [],
   "source": [
    "from sklearn.model_selection import cross_val_score\n",
    "from sklearn.model_selection import cross_validate"
   ]
  },
  {
   "cell_type": "code",
   "execution_count": 17,
   "metadata": {},
   "outputs": [
    {
     "name": "stdout",
     "output_type": "stream",
     "text": [
      "[1.     0.95   0.975  0.9875 0.95  ]\n",
      "0.9724999999999999\n",
      "[1.     0.95   0.975  0.9875 0.95  ]\n",
      "0.9724999999999999\n",
      "[1.         0.95416667 0.98333333 0.99166667 0.94583333]\n",
      "0.975\n",
      "[1.     0.95   0.975  0.9875 0.95  ]\n",
      "0.9724999999999999\n",
      "[1.         0.945      0.97333333 0.98666667 0.94416667]\n",
      "0.9698333333333332\n"
     ]
    }
   ],
   "source": [
    "#print(cross_val_score(lr, df, y, cv=5))\n",
    "#print(np.mean(cross_val_score(lr, df, y, cv=5)))\n",
    "scores = cross_validate(lr, df, y, cv=5, scoring=('accuracy', 'precision_macro', 'recall_macro', 'f1_macro'))\n",
    "print(scores['test_accuracy'])\n",
    "print(np.mean(scores['test_accuracy']))\n",
    "print(scores['test_precision_macro'])\n",
    "print(np.mean(scores['test_precision_macro']))\n",
    "print(scores['test_recall_macro'])\n",
    "print(np.mean(scores['test_recall_macro']))\n",
    "print(scores['test_f1_macro'])\n",
    "print(np.mean(scores['test_f1_macro']))"
   ]
  },
  {
   "cell_type": "code",
   "execution_count": 33,
   "metadata": {},
   "outputs": [],
   "source": [
    "from sklearn.svm import SVC"
   ]
  },
  {
   "cell_type": "code",
   "execution_count": 34,
   "metadata": {},
   "outputs": [],
   "source": [
    "model = SVC(gamma='scale')"
   ]
  },
  {
   "cell_type": "code",
   "execution_count": 35,
   "metadata": {},
   "outputs": [],
   "source": [
    "model.fit(X_train, y_train)\n",
    "predict = model.predict(X_test)"
   ]
  },
  {
   "cell_type": "code",
   "execution_count": 36,
   "metadata": {},
   "outputs": [
    {
     "data": {
      "text/plain": [
       "array([[2, 0, 0, ..., 0, 0, 1],\n",
       "       [0, 4, 0, ..., 0, 0, 0],\n",
       "       [0, 0, 1, ..., 0, 0, 1],\n",
       "       ...,\n",
       "       [0, 0, 0, ..., 2, 0, 0],\n",
       "       [0, 0, 0, ..., 0, 2, 0],\n",
       "       [0, 0, 0, ..., 0, 0, 1]], dtype=int64)"
      ]
     },
     "execution_count": 36,
     "metadata": {},
     "output_type": "execute_result"
    }
   ],
   "source": [
    "confusion_matrix(y_test, predict)"
   ]
  },
  {
   "cell_type": "code",
   "execution_count": 37,
   "metadata": {},
   "outputs": [
    {
     "name": "stdout",
     "output_type": "stream",
     "text": [
      "0.825\n",
      "0.8951719576719577\n",
      "0.8999999999999999\n",
      "0.8647486772486772\n"
     ]
    },
    {
     "name": "stderr",
     "output_type": "stream",
     "text": [
      "C:\\Users\\AdamK\\Anaconda3\\lib\\site-packages\\sklearn\\metrics\\classification.py:1437: UndefinedMetricWarning: Precision is ill-defined and being set to 0.0 in labels with no predicted samples.\n",
      "  'precision', 'predicted', average, warn_for)\n",
      "C:\\Users\\AdamK\\Anaconda3\\lib\\site-packages\\sklearn\\metrics\\classification.py:1437: UndefinedMetricWarning: F-score is ill-defined and being set to 0.0 in labels with no predicted samples.\n",
      "  'precision', 'predicted', average, warn_for)\n"
     ]
    }
   ],
   "source": [
    "print(model.score(X_test, y_test))\n",
    "print(precision_score(y_test, predict, average='macro'))\n",
    "print(recall_score(y_test, predict, average='macro'))\n",
    "print(f1_score(y_test, predict, average='macro'))"
   ]
  },
  {
   "cell_type": "code",
   "execution_count": 38,
   "metadata": {},
   "outputs": [
    {
     "name": "stderr",
     "output_type": "stream",
     "text": [
      "C:\\Users\\AdamK\\Anaconda3\\lib\\site-packages\\sklearn\\metrics\\classification.py:1437: UndefinedMetricWarning: Precision is ill-defined and being set to 0.0 in labels with no predicted samples.\n",
      "  'precision', 'predicted', average, warn_for)\n"
     ]
    },
    {
     "name": "stdout",
     "output_type": "stream",
     "text": [
      "[0.9875 0.95   0.95   0.9375 0.8875]\n",
      "0.9425000000000001\n",
      "[0.99166667 0.95416667 0.96666667 0.9725     0.88083333]\n",
      "0.9531666666666666\n",
      "[0.9875 0.95   0.95   0.9375 0.8875]\n",
      "0.9425000000000001\n",
      "[0.98666667 0.945      0.94916667 0.93928571 0.87428571]\n",
      "0.9388809523809524\n"
     ]
    },
    {
     "name": "stderr",
     "output_type": "stream",
     "text": [
      "C:\\Users\\AdamK\\Anaconda3\\lib\\site-packages\\sklearn\\metrics\\classification.py:1437: UndefinedMetricWarning: F-score is ill-defined and being set to 0.0 in labels with no predicted samples.\n",
      "  'precision', 'predicted', average, warn_for)\n"
     ]
    }
   ],
   "source": [
    "#print(cross_val_score(model, df, y, cv=5))\n",
    "#print(np.mean(cross_val_score(model, df, y, cv=5)))\n",
    "scores = cross_validate(model, df, y, cv=5, scoring=('accuracy', 'precision_macro', 'recall_macro', 'f1_macro'))\n",
    "print(scores['test_accuracy'])\n",
    "print(np.mean(scores['test_accuracy']))\n",
    "print(scores['test_precision_macro'])\n",
    "print(np.mean(scores['test_precision_macro']))\n",
    "print(scores['test_recall_macro'])\n",
    "print(np.mean(scores['test_recall_macro']))\n",
    "print(scores['test_f1_macro'])\n",
    "print(np.mean(scores['test_f1_macro']))"
   ]
  },
  {
   "cell_type": "code",
   "execution_count": 39,
   "metadata": {},
   "outputs": [],
   "source": [
    "import tensorflow as tf\n",
    "from tensorflow import keras\n",
    "from tensorflow.keras import layers"
   ]
  },
  {
   "cell_type": "code",
   "execution_count": 40,
   "metadata": {},
   "outputs": [
    {
     "data": {
      "text/html": [
       "<div>\n",
       "<style scoped>\n",
       "    .dataframe tbody tr th:only-of-type {\n",
       "        vertical-align: middle;\n",
       "    }\n",
       "\n",
       "    .dataframe tbody tr th {\n",
       "        vertical-align: top;\n",
       "    }\n",
       "\n",
       "    .dataframe thead th {\n",
       "        text-align: right;\n",
       "    }\n",
       "</style>\n",
       "<table border=\"1\" class=\"dataframe\">\n",
       "  <thead>\n",
       "    <tr style=\"text-align: right;\">\n",
       "      <th></th>\n",
       "      <th>results</th>\n",
       "    </tr>\n",
       "  </thead>\n",
       "  <tbody>\n",
       "    <tr>\n",
       "      <th>0</th>\n",
       "      <td>0</td>\n",
       "    </tr>\n",
       "    <tr>\n",
       "      <th>1</th>\n",
       "      <td>0</td>\n",
       "    </tr>\n",
       "    <tr>\n",
       "      <th>2</th>\n",
       "      <td>0</td>\n",
       "    </tr>\n",
       "    <tr>\n",
       "      <th>3</th>\n",
       "      <td>0</td>\n",
       "    </tr>\n",
       "    <tr>\n",
       "      <th>4</th>\n",
       "      <td>0</td>\n",
       "    </tr>\n",
       "  </tbody>\n",
       "</table>\n",
       "</div>"
      ],
      "text/plain": [
       "   results\n",
       "0        0\n",
       "1        0\n",
       "2        0\n",
       "3        0\n",
       "4        0"
      ]
     },
     "execution_count": 40,
     "metadata": {},
     "output_type": "execute_result"
    }
   ],
   "source": [
    "y = pd.DataFrame(ovf.target, columns=['results'])\n",
    "y.head()"
   ]
  },
  {
   "cell_type": "code",
   "execution_count": 41,
   "metadata": {},
   "outputs": [
    {
     "data": {
      "text/plain": [
       "0       0\n",
       "1       0\n",
       "2       0\n",
       "3       0\n",
       "4       0\n",
       "5       0\n",
       "6       0\n",
       "7       0\n",
       "8       0\n",
       "9       0\n",
       "10      0\n",
       "11      0\n",
       "12      0\n",
       "13      0\n",
       "14      0\n",
       "15      0\n",
       "16      0\n",
       "17      0\n",
       "18      0\n",
       "19      0\n",
       "20      0\n",
       "21      0\n",
       "22      0\n",
       "23      0\n",
       "24      0\n",
       "25      0\n",
       "26      0\n",
       "27      0\n",
       "28      0\n",
       "29      0\n",
       "       ..\n",
       "4066    0\n",
       "4067    0\n",
       "4068    0\n",
       "4069    0\n",
       "4070    0\n",
       "4071    0\n",
       "4072    0\n",
       "4073    0\n",
       "4074    0\n",
       "4075    0\n",
       "4076    0\n",
       "4077    0\n",
       "4078    0\n",
       "4079    0\n",
       "4080    0\n",
       "4081    0\n",
       "4082    0\n",
       "4083    0\n",
       "4084    0\n",
       "4085    0\n",
       "4086    0\n",
       "4087    0\n",
       "4088    0\n",
       "4089    0\n",
       "4090    0\n",
       "4091    0\n",
       "4092    0\n",
       "4093    0\n",
       "4094    0\n",
       "4095    0\n",
       "Length: 4096, dtype: int64"
      ]
     },
     "execution_count": 41,
     "metadata": {},
     "output_type": "execute_result"
    }
   ],
   "source": [
    "df.isna().sum()"
   ]
  },
  {
   "cell_type": "code",
   "execution_count": 42,
   "metadata": {},
   "outputs": [],
   "source": [
    "data = df.copy()\n",
    "data['results'] = actual.copy()['results'] # combining input and output into one table\n",
    "train_data = data.sample(frac=0.8, random_state=0)\n",
    "test_data = data.drop(train_data.index)"
   ]
  },
  {
   "cell_type": "code",
   "execution_count": 43,
   "metadata": {},
   "outputs": [],
   "source": [
    "train_labels = train_data.copy()['results']\n",
    "test_labels = test_data.copy()['results']"
   ]
  },
  {
   "cell_type": "code",
   "execution_count": 44,
   "metadata": {},
   "outputs": [],
   "source": [
    "train_data = train_data.drop('results', axis=1)\n",
    "test_data = test_data.drop('results', axis=1)"
   ]
  },
  {
   "cell_type": "code",
   "execution_count": 45,
   "metadata": {},
   "outputs": [
    {
     "data": {
      "text/plain": [
       "(320, 4096)"
      ]
     },
     "execution_count": 45,
     "metadata": {},
     "output_type": "execute_result"
    }
   ],
   "source": [
    "train_data.shape"
   ]
  },
  {
   "cell_type": "code",
   "execution_count": 46,
   "metadata": {},
   "outputs": [
    {
     "data": {
      "text/plain": [
       "132    13\n",
       "309    30\n",
       "341    34\n",
       "196    19\n",
       "246    24\n",
       "60      6\n",
       "155    15\n",
       "261    26\n",
       "141    14\n",
       "214    21\n",
       "37      3\n",
       "134    13\n",
       "113    11\n",
       "348    34\n",
       "12      1\n",
       "59      5\n",
       "293    29\n",
       "140    14\n",
       "206    20\n",
       "199    19\n",
       "176    17\n",
       "268    26\n",
       "124    12\n",
       "344    34\n",
       "175    17\n",
       "313    31\n",
       "78      7\n",
       "15      1\n",
       "286    28\n",
       "102    10\n",
       "       ..\n",
       "331    33\n",
       "123    12\n",
       "222    22\n",
       "62      6\n",
       "302    30\n",
       "130    13\n",
       "187    18\n",
       "23      2\n",
       "43      4\n",
       "0       0\n",
       "201    20\n",
       "339    33\n",
       "98      9\n",
       "387    38\n",
       "178    17\n",
       "256    25\n",
       "94      9\n",
       "369    36\n",
       "95      9\n",
       "351    35\n",
       "169    16\n",
       "69      6\n",
       "305    30\n",
       "48      4\n",
       "207    20\n",
       "279    27\n",
       "227    22\n",
       "148    14\n",
       "143    14\n",
       "180    18\n",
       "Name: results, Length: 320, dtype: int32"
      ]
     },
     "execution_count": 46,
     "metadata": {},
     "output_type": "execute_result"
    }
   ],
   "source": [
    "train_labels"
   ]
  },
  {
   "cell_type": "code",
   "execution_count": 116,
   "metadata": {},
   "outputs": [],
   "source": [
    "def build_model():\n",
    "    model = keras.Sequential([\n",
    "        layers.Dense(256, activation='relu', input_shape=[len(train_data.keys())]),\n",
    "        #layers.Dense(4, activation='tanh'),\n",
    "        #layers.Dense(1024, activation='relu'),\n",
    "        layers.Dense(40, activation='softmax')\n",
    "    ])\n",
    "    \n",
    "    model.compile(optimizer='adam',\n",
    "              loss='sparse_categorical_crossentropy',\n",
    "              metrics=['accuracy'])\n",
    "    return model"
   ]
  },
  {
   "cell_type": "code",
   "execution_count": 117,
   "metadata": {},
   "outputs": [],
   "source": [
    "nn_model = build_model()"
   ]
  },
  {
   "cell_type": "code",
   "execution_count": 118,
   "metadata": {},
   "outputs": [
    {
     "name": "stdout",
     "output_type": "stream",
     "text": [
      "Model: \"sequential_33\"\n",
      "_________________________________________________________________\n",
      "Layer (type)                 Output Shape              Param #   \n",
      "=================================================================\n",
      "dense_66 (Dense)             (None, 256)               1048832   \n",
      "_________________________________________________________________\n",
      "dense_67 (Dense)             (None, 40)                10280     \n",
      "=================================================================\n",
      "Total params: 1,059,112\n",
      "Trainable params: 1,059,112\n",
      "Non-trainable params: 0\n",
      "_________________________________________________________________\n"
     ]
    }
   ],
   "source": [
    "nn_model.summary()"
   ]
  },
  {
   "cell_type": "code",
   "execution_count": 119,
   "metadata": {},
   "outputs": [
    {
     "name": "stdout",
     "output_type": "stream",
     "text": [
      "WARNING:tensorflow:Falling back from v2 loop because of error: Failed to find data adapter that can handle input: <class 'pandas.core.frame.DataFrame'>, <class 'NoneType'>\n",
      "\n",
      "....................................................................................................\n",
      "....................................................................................................\n",
      "....................................................................................................\n",
      "....................................................................................................\n",
      "....................................................................................................\n",
      "....................................................................................................\n",
      "....................................................................................................\n",
      "....................................................................................................\n",
      "....................................................................................................\n",
      "...................................................................................................."
     ]
    }
   ],
   "source": [
    "class PrintDot(keras.callbacks.Callback):\n",
    "    def on_epoch_end(self, epoch, logs):\n",
    "        if epoch % 100 == 0: print('')\n",
    "        print('.', end='')\n",
    "\n",
    "EPOCHS = 1000\n",
    "\n",
    "history = nn_model.fit(\n",
    "    #norm_train_data, train_labels,\n",
    "    train_data, train_labels,\n",
    "    epochs=EPOCHS, validation_split=0.2, verbose=0,\n",
    "    callbacks=[PrintDot()])"
   ]
  },
  {
   "cell_type": "code",
   "execution_count": 120,
   "metadata": {},
   "outputs": [
    {
     "data": {
      "text/html": [
       "<div>\n",
       "<style scoped>\n",
       "    .dataframe tbody tr th:only-of-type {\n",
       "        vertical-align: middle;\n",
       "    }\n",
       "\n",
       "    .dataframe tbody tr th {\n",
       "        vertical-align: top;\n",
       "    }\n",
       "\n",
       "    .dataframe thead th {\n",
       "        text-align: right;\n",
       "    }\n",
       "</style>\n",
       "<table border=\"1\" class=\"dataframe\">\n",
       "  <thead>\n",
       "    <tr style=\"text-align: right;\">\n",
       "      <th></th>\n",
       "      <th>loss</th>\n",
       "      <th>accuracy</th>\n",
       "      <th>val_loss</th>\n",
       "      <th>val_accuracy</th>\n",
       "      <th>epoch</th>\n",
       "    </tr>\n",
       "  </thead>\n",
       "  <tbody>\n",
       "    <tr>\n",
       "      <th>995</th>\n",
       "      <td>0.000139</td>\n",
       "      <td>1.0</td>\n",
       "      <td>0.337813</td>\n",
       "      <td>0.921875</td>\n",
       "      <td>995</td>\n",
       "    </tr>\n",
       "    <tr>\n",
       "      <th>996</th>\n",
       "      <td>0.000138</td>\n",
       "      <td>1.0</td>\n",
       "      <td>0.338530</td>\n",
       "      <td>0.921875</td>\n",
       "      <td>996</td>\n",
       "    </tr>\n",
       "    <tr>\n",
       "      <th>997</th>\n",
       "      <td>0.000138</td>\n",
       "      <td>1.0</td>\n",
       "      <td>0.338612</td>\n",
       "      <td>0.921875</td>\n",
       "      <td>997</td>\n",
       "    </tr>\n",
       "    <tr>\n",
       "      <th>998</th>\n",
       "      <td>0.000137</td>\n",
       "      <td>1.0</td>\n",
       "      <td>0.338533</td>\n",
       "      <td>0.921875</td>\n",
       "      <td>998</td>\n",
       "    </tr>\n",
       "    <tr>\n",
       "      <th>999</th>\n",
       "      <td>0.000137</td>\n",
       "      <td>1.0</td>\n",
       "      <td>0.337816</td>\n",
       "      <td>0.921875</td>\n",
       "      <td>999</td>\n",
       "    </tr>\n",
       "  </tbody>\n",
       "</table>\n",
       "</div>"
      ],
      "text/plain": [
       "         loss  accuracy  val_loss  val_accuracy  epoch\n",
       "995  0.000139       1.0  0.337813      0.921875    995\n",
       "996  0.000138       1.0  0.338530      0.921875    996\n",
       "997  0.000138       1.0  0.338612      0.921875    997\n",
       "998  0.000137       1.0  0.338533      0.921875    998\n",
       "999  0.000137       1.0  0.337816      0.921875    999"
      ]
     },
     "execution_count": 120,
     "metadata": {},
     "output_type": "execute_result"
    }
   ],
   "source": [
    "hist = pd.DataFrame(history.history)\n",
    "hist['epoch'] = history.epoch\n",
    "hist.tail()"
   ]
  },
  {
   "cell_type": "code",
   "execution_count": 121,
   "metadata": {},
   "outputs": [
    {
     "data": {
      "image/png": "[encoded data removed]",
      "text/plain": [
       "<Figure size 432x288 with 1 Axes>"
      ]
     },
     "metadata": {
      "needs_background": "light"
     },
     "output_type": "display_data"
    }
   ],
   "source": [
    "def plot_history(history):\n",
    "    hist = pd.DataFrame(history.history)\n",
    "    hist['epoch'] = history.epoch\n",
    "    \n",
    "    plt.figure()\n",
    "    plt.title('Percentage of data classified correctly vs. Number of Epochs')\n",
    "    plt.xlabel('Epoch')\n",
    "    plt.ylabel('Percent classified correctly')\n",
    "    plt.plot(hist['epoch'], hist['accuracy']*100,\n",
    "            label='Train Accuracy')\n",
    "    plt.plot(hist['epoch'], hist['val_accuracy']*100,\n",
    "            label='Val Accuracy')\n",
    "    plt.ylim([0,100])\n",
    "    plt.legend()\n",
    "    \n",
    "plot_history(history)  "
   ]
  },
  {
   "cell_type": "code",
   "execution_count": 122,
   "metadata": {},
   "outputs": [
    {
     "name": "stdout",
     "output_type": "stream",
     "text": [
      "WARNING:tensorflow:Falling back from v2 loop because of error: Failed to find data adapter that can handle input: <class 'pandas.core.frame.DataFrame'>, <class 'NoneType'>\n"
     ]
    }
   ],
   "source": [
    "predictions = nn_model.predict(test_data)"
   ]
  },
  {
   "cell_type": "code",
   "execution_count": 123,
   "metadata": {},
   "outputs": [
    {
     "name": "stdout",
     "output_type": "stream",
     "text": [
      "0: Predicted 37 with likelihood 87.23%. Expected 0. \u001b[1;31;40m WRONG! \u001b[0m\n",
      "1: Predicted 2 with likelihood 84.86%. Expected 2. \u001b[1;32;40m CORRECT! \u001b[0m\n",
      "2: Predicted 2 with likelihood 98.39%. Expected 2. \u001b[1;32;40m CORRECT! \u001b[0m\n",
      "3: Predicted 3 with likelihood 98.30%. Expected 3. \u001b[1;32;40m CORRECT! \u001b[0m\n",
      "4: Predicted 3 with likelihood 90.93%. Expected 3. \u001b[1;32;40m CORRECT! \u001b[0m\n",
      "5: Predicted 3 with likelihood 99.78%. Expected 3. \u001b[1;32;40m CORRECT! \u001b[0m\n",
      "6: Predicted 3 with likelihood 57.85%. Expected 3. \u001b[1;32;40m CORRECT! \u001b[0m\n",
      "7: Predicted 4 with likelihood 95.84%. Expected 4. \u001b[1;32;40m CORRECT! \u001b[0m\n",
      "8: Predicted 4 with likelihood 90.44%. Expected 4. \u001b[1;32;40m CORRECT! \u001b[0m\n",
      "9: Predicted 5 with likelihood 99.99%. Expected 5. \u001b[1;32;40m CORRECT! \u001b[0m\n",
      "10: Predicted 5 with likelihood 99.82%. Expected 5. \u001b[1;32;40m CORRECT! \u001b[0m\n",
      "11: Predicted 7 with likelihood 99.33%. Expected 7. \u001b[1;32;40m CORRECT! \u001b[0m\n",
      "12: Predicted 7 with likelihood 99.40%. Expected 7. \u001b[1;32;40m CORRECT! \u001b[0m\n",
      "13: Predicted 8 with likelihood 99.81%. Expected 8. \u001b[1;32;40m CORRECT! \u001b[0m\n",
      "14: Predicted 8 with likelihood 99.92%. Expected 8. \u001b[1;32;40m CORRECT! \u001b[0m\n",
      "15: Predicted 8 with likelihood 99.41%. Expected 8. \u001b[1;32;40m CORRECT! \u001b[0m\n",
      "16: Predicted 8 with likelihood 99.83%. Expected 8. \u001b[1;32;40m CORRECT! \u001b[0m\n",
      "17: Predicted 9 with likelihood 100.00%. Expected 9. \u001b[1;32;40m CORRECT! \u001b[0m\n",
      "18: Predicted 7 with likelihood 99.93%. Expected 9. \u001b[1;31;40m WRONG! \u001b[0m\n",
      "19: Predicted 10 with likelihood 100.00%. Expected 10. \u001b[1;32;40m CORRECT! \u001b[0m\n",
      "20: Predicted 11 with likelihood 99.87%. Expected 11. \u001b[1;32;40m CORRECT! \u001b[0m\n",
      "21: Predicted 11 with likelihood 98.34%. Expected 11. \u001b[1;32;40m CORRECT! \u001b[0m\n",
      "22: Predicted 11 with likelihood 99.98%. Expected 11. \u001b[1;32;40m CORRECT! \u001b[0m\n",
      "23: Predicted 12 with likelihood 95.58%. Expected 12. \u001b[1;32;40m CORRECT! \u001b[0m\n",
      "24: Predicted 12 with likelihood 78.96%. Expected 12. \u001b[1;32;40m CORRECT! \u001b[0m\n",
      "25: Predicted 39 with likelihood 45.12%. Expected 12. \u001b[1;31;40m WRONG! \u001b[0m\n",
      "26: Predicted 13 with likelihood 99.83%. Expected 13. \u001b[1;32;40m CORRECT! \u001b[0m\n",
      "27: Predicted 14 with likelihood 99.97%. Expected 14. \u001b[1;32;40m CORRECT! \u001b[0m\n",
      "28: Predicted 15 with likelihood 100.00%. Expected 15. \u001b[1;32;40m CORRECT! \u001b[0m\n",
      "29: Predicted 16 with likelihood 93.55%. Expected 16. \u001b[1;32;40m CORRECT! \u001b[0m\n",
      "30: Predicted 16 with likelihood 99.99%. Expected 16. \u001b[1;32;40m CORRECT! \u001b[0m\n",
      "31: Predicted 17 with likelihood 99.33%. Expected 17. \u001b[1;32;40m CORRECT! \u001b[0m\n",
      "32: Predicted 17 with likelihood 88.41%. Expected 17. \u001b[1;32;40m CORRECT! \u001b[0m\n",
      "33: Predicted 17 with likelihood 99.72%. Expected 17. \u001b[1;32;40m CORRECT! \u001b[0m\n",
      "34: Predicted 18 with likelihood 99.53%. Expected 18. \u001b[1;32;40m CORRECT! \u001b[0m\n",
      "35: Predicted 18 with likelihood 99.92%. Expected 18. \u001b[1;32;40m CORRECT! \u001b[0m\n",
      "36: Predicted 19 with likelihood 99.98%. Expected 19. \u001b[1;32;40m CORRECT! \u001b[0m\n",
      "37: Predicted 19 with likelihood 64.06%. Expected 19. \u001b[1;32;40m CORRECT! \u001b[0m\n",
      "38: Predicted 20 with likelihood 33.20%. Expected 19. \u001b[1;31;40m WRONG! \u001b[0m\n",
      "39: Predicted 19 with likelihood 99.39%. Expected 19. \u001b[1;32;40m CORRECT! \u001b[0m\n",
      "40: Predicted 20 with likelihood 92.46%. Expected 20. \u001b[1;32;40m CORRECT! \u001b[0m\n",
      "41: Predicted 20 with likelihood 99.85%. Expected 20. \u001b[1;32;40m CORRECT! \u001b[0m\n",
      "42: Predicted 21 with likelihood 99.99%. Expected 21. \u001b[1;32;40m CORRECT! \u001b[0m\n",
      "43: Predicted 24 with likelihood 100.00%. Expected 24. \u001b[1;32;40m CORRECT! \u001b[0m\n",
      "44: Predicted 24 with likelihood 93.01%. Expected 24. \u001b[1;32;40m CORRECT! \u001b[0m\n",
      "45: Predicted 24 with likelihood 99.53%. Expected 24. \u001b[1;32;40m CORRECT! \u001b[0m\n",
      "46: Predicted 25 with likelihood 88.24%. Expected 25. \u001b[1;32;40m CORRECT! \u001b[0m\n",
      "47: Predicted 25 with likelihood 100.00%. Expected 25. \u001b[1;32;40m CORRECT! \u001b[0m\n",
      "48: Predicted 26 with likelihood 99.99%. Expected 26. \u001b[1;32;40m CORRECT! \u001b[0m\n",
      "49: Predicted 26 with likelihood 98.65%. Expected 26. \u001b[1;32;40m CORRECT! \u001b[0m\n",
      "50: Predicted 26 with likelihood 100.00%. Expected 26. \u001b[1;32;40m CORRECT! \u001b[0m\n",
      "51: Predicted 27 with likelihood 99.80%. Expected 27. \u001b[1;32;40m CORRECT! \u001b[0m\n",
      "52: Predicted 27 with likelihood 99.26%. Expected 27. \u001b[1;32;40m CORRECT! \u001b[0m\n",
      "53: Predicted 28 with likelihood 98.71%. Expected 28. \u001b[1;32;40m CORRECT! \u001b[0m\n",
      "54: Predicted 28 with likelihood 84.05%. Expected 28. \u001b[1;32;40m CORRECT! \u001b[0m\n",
      "55: Predicted 29 with likelihood 99.83%. Expected 29. \u001b[1;32;40m CORRECT! \u001b[0m\n",
      "56: Predicted 29 with likelihood 99.99%. Expected 29. \u001b[1;32;40m CORRECT! \u001b[0m\n",
      "57: Predicted 29 with likelihood 51.99%. Expected 29. \u001b[1;32;40m CORRECT! \u001b[0m\n",
      "58: Predicted 31 with likelihood 99.97%. Expected 31. \u001b[1;32;40m CORRECT! \u001b[0m\n",
      "59: Predicted 32 with likelihood 100.00%. Expected 32. \u001b[1;32;40m CORRECT! \u001b[0m\n",
      "60: Predicted 32 with likelihood 100.00%. Expected 32. \u001b[1;32;40m CORRECT! \u001b[0m\n",
      "61: Predicted 32 with likelihood 99.95%. Expected 32. \u001b[1;32;40m CORRECT! \u001b[0m\n",
      "62: Predicted 33 with likelihood 99.98%. Expected 33. \u001b[1;32;40m CORRECT! \u001b[0m\n",
      "63: Predicted 33 with likelihood 99.98%. Expected 33. \u001b[1;32;40m CORRECT! \u001b[0m\n",
      "64: Predicted 33 with likelihood 99.76%. Expected 33. \u001b[1;32;40m CORRECT! \u001b[0m\n",
      "65: Predicted 33 with likelihood 99.73%. Expected 33. \u001b[1;32;40m CORRECT! \u001b[0m\n",
      "66: Predicted 34 with likelihood 97.63%. Expected 34. \u001b[1;32;40m CORRECT! \u001b[0m\n",
      "67: Predicted 34 with likelihood 99.76%. Expected 34. \u001b[1;32;40m CORRECT! \u001b[0m\n",
      "68: Predicted 35 with likelihood 94.46%. Expected 35. \u001b[1;32;40m CORRECT! \u001b[0m\n",
      "69: Predicted 35 with likelihood 97.92%. Expected 35. \u001b[1;32;40m CORRECT! \u001b[0m\n",
      "70: Predicted 35 with likelihood 99.99%. Expected 35. \u001b[1;32;40m CORRECT! \u001b[0m\n",
      "71: Predicted 35 with likelihood 91.73%. Expected 35. \u001b[1;32;40m CORRECT! \u001b[0m\n",
      "72: Predicted 36 with likelihood 99.92%. Expected 36. \u001b[1;32;40m CORRECT! \u001b[0m\n",
      "73: Predicted 36 with likelihood 99.89%. Expected 36. \u001b[1;32;40m CORRECT! \u001b[0m\n",
      "74: Predicted 36 with likelihood 99.97%. Expected 36. \u001b[1;32;40m CORRECT! \u001b[0m\n",
      "75: Predicted 37 with likelihood 66.19%. Expected 37. \u001b[1;32;40m CORRECT! \u001b[0m\n",
      "76: Predicted 37 with likelihood 99.99%. Expected 37. \u001b[1;32;40m CORRECT! \u001b[0m\n",
      "77: Predicted 38 with likelihood 99.85%. Expected 38. \u001b[1;32;40m CORRECT! \u001b[0m\n",
      "78: Predicted 38 with likelihood 99.81%. Expected 38. \u001b[1;32;40m CORRECT! \u001b[0m\n",
      "79: Predicted 39 with likelihood 96.17%. Expected 39. \u001b[1;32;40m CORRECT! \u001b[0m\n",
      "76/80 correct total. 95.0%\n"
     ]
    }
   ],
   "source": [
    "i = 0\n",
    "tl = np.array(test_labels)\n",
    "num_rows, num_cols = predictions.shape\n",
    "from decimal import getcontext, Decimal\n",
    "getcontext().prec = 3\n",
    "correct = 0\n",
    "while i < num_rows:\n",
    "  msg = \"\\033[1;31;40m WRONG! \\033[0m\"\n",
    "  if(tl[i] == np.argmax(predictions[i])):\n",
    "        msg = \"\\033[1;32;40m CORRECT! \\033[0m\"\n",
    "        correct = correct + 1\n",
    "  print(str(i) + ': Predicted ' + str(np.argmax(predictions[i])) + ' with likelihood ' \n",
    "        + \"{0:.2f}\".format(np.max(predictions[i]) * 100) +\n",
    "       '%. Expected ' + str(tl[i]) + '. ' + msg) \n",
    "  i = i + 1\n",
    "print(str(correct) + \"/\" + str(i) + \" correct total. \" + str(100.0 * float(correct/i)) + \"%\")"
   ]
  },
  {
   "cell_type": "code",
   "execution_count": 126,
   "metadata": {},
   "outputs": [
    {
     "name": "stdout",
     "output_type": "stream",
     "text": [
      "WARNING:tensorflow:Falling back from v2 loop because of error: Failed to find data adapter that can handle input: <class 'pandas.core.frame.DataFrame'>, <class 'NoneType'>\n",
      "WARNING:tensorflow:Falling back from v2 loop because of error: Failed to find data adapter that can handle input: <class 'pandas.core.frame.DataFrame'>, <class 'NoneType'>\n",
      "WARNING:tensorflow:Falling back from v2 loop because of error: Failed to find data adapter that can handle input: <class 'pandas.core.frame.DataFrame'>, <class 'NoneType'>\n",
      "WARNING:tensorflow:Falling back from v2 loop because of error: Failed to find data adapter that can handle input: <class 'pandas.core.frame.DataFrame'>, <class 'NoneType'>\n",
      "WARNING:tensorflow:Falling back from v2 loop because of error: Failed to find data adapter that can handle input: <class 'pandas.core.frame.DataFrame'>, <class 'NoneType'>\n",
      "WARNING:tensorflow:Falling back from v2 loop because of error: Failed to find data adapter that can handle input: <class 'pandas.core.frame.DataFrame'>, <class 'NoneType'>\n"
     ]
    },
    {
     "name": "stderr",
     "output_type": "stream",
     "text": [
      "C:\\Users\\AdamK\\Anaconda3\\lib\\site-packages\\sklearn\\metrics\\classification.py:1439: UndefinedMetricWarning: Recall is ill-defined and being set to 0.0 in labels with no true samples.\n",
      "  'recall', 'true', average, warn_for)\n",
      "C:\\Users\\AdamK\\Anaconda3\\lib\\site-packages\\sklearn\\metrics\\classification.py:1439: UndefinedMetricWarning: F-score is ill-defined and being set to 0.0 in labels with no true samples.\n",
      "  'recall', 'true', average, warn_for)\n"
     ]
    },
    {
     "name": "stdout",
     "output_type": "stream",
     "text": [
      "WARNING:tensorflow:Falling back from v2 loop because of error: Failed to find data adapter that can handle input: <class 'pandas.core.frame.DataFrame'>, <class 'NoneType'>\n",
      "WARNING:tensorflow:Falling back from v2 loop because of error: Failed to find data adapter that can handle input: <class 'pandas.core.frame.DataFrame'>, <class 'NoneType'>\n",
      "WARNING:tensorflow:Falling back from v2 loop because of error: Failed to find data adapter that can handle input: <class 'pandas.core.frame.DataFrame'>, <class 'NoneType'>\n",
      "WARNING:tensorflow:Falling back from v2 loop because of error: Failed to find data adapter that can handle input: <class 'pandas.core.frame.DataFrame'>, <class 'NoneType'>\n",
      "WARNING:tensorflow:Falling back from v2 loop because of error: Failed to find data adapter that can handle input: <class 'pandas.core.frame.DataFrame'>, <class 'NoneType'>\n",
      "WARNING:tensorflow:Falling back from v2 loop because of error: Failed to find data adapter that can handle input: <class 'pandas.core.frame.DataFrame'>, <class 'NoneType'>\n",
      "WARNING:tensorflow:Falling back from v2 loop because of error: Failed to find data adapter that can handle input: <class 'pandas.core.frame.DataFrame'>, <class 'NoneType'>\n",
      "WARNING:tensorflow:Falling back from v2 loop because of error: Failed to find data adapter that can handle input: <class 'pandas.core.frame.DataFrame'>, <class 'NoneType'>\n",
      "WARNING:tensorflow:Falling back from v2 loop because of error: Failed to find data adapter that can handle input: <class 'pandas.core.frame.DataFrame'>, <class 'NoneType'>\n",
      "WARNING:tensorflow:Falling back from v2 loop because of error: Failed to find data adapter that can handle input: <class 'pandas.core.frame.DataFrame'>, <class 'NoneType'>\n",
      "WARNING:tensorflow:Falling back from v2 loop because of error: Failed to find data adapter that can handle input: <class 'pandas.core.frame.DataFrame'>, <class 'NoneType'>\n",
      "WARNING:tensorflow:Falling back from v2 loop because of error: Failed to find data adapter that can handle input: <class 'pandas.core.frame.DataFrame'>, <class 'NoneType'>\n",
      "WARNING:tensorflow:Falling back from v2 loop because of error: Failed to find data adapter that can handle input: <class 'pandas.core.frame.DataFrame'>, <class 'NoneType'>\n",
      "WARNING:tensorflow:Falling back from v2 loop because of error: Failed to find data adapter that can handle input: <class 'pandas.core.frame.DataFrame'>, <class 'NoneType'>\n",
      "WARNING:tensorflow:Falling back from v2 loop because of error: Failed to find data adapter that can handle input: <class 'pandas.core.frame.DataFrame'>, <class 'NoneType'>\n"
     ]
    },
    {
     "name": "stderr",
     "output_type": "stream",
     "text": [
      "C:\\Users\\AdamK\\Anaconda3\\lib\\site-packages\\sklearn\\metrics\\classification.py:1437: UndefinedMetricWarning: Precision is ill-defined and being set to 0.0 in labels with no predicted samples.\n",
      "  'precision', 'predicted', average, warn_for)\n",
      "C:\\Users\\AdamK\\Anaconda3\\lib\\site-packages\\sklearn\\metrics\\classification.py:1437: UndefinedMetricWarning: F-score is ill-defined and being set to 0.0 in labels with no predicted samples.\n",
      "  'precision', 'predicted', average, warn_for)\n"
     ]
    },
    {
     "name": "stdout",
     "output_type": "stream",
     "text": [
      "WARNING:tensorflow:Falling back from v2 loop because of error: Failed to find data adapter that can handle input: <class 'pandas.core.frame.DataFrame'>, <class 'NoneType'>\n",
      "WARNING:tensorflow:Falling back from v2 loop because of error: Failed to find data adapter that can handle input: <class 'pandas.core.frame.DataFrame'>, <class 'NoneType'>\n",
      "WARNING:tensorflow:Falling back from v2 loop because of error: Failed to find data adapter that can handle input: <class 'pandas.core.frame.DataFrame'>, <class 'NoneType'>\n",
      "WARNING:tensorflow:Falling back from v2 loop because of error: Failed to find data adapter that can handle input: <class 'pandas.core.frame.DataFrame'>, <class 'NoneType'>\n",
      "[0.9375 0.9875 0.975  0.9625 0.9   ]\n",
      "0.9525\n",
      "[0.93055556 0.98648649 0.9875     0.94144144 0.90714286]\n",
      "0.950625268125268\n",
      "[0.92361111 0.99459459 0.98611111 0.94594595 0.91904762]\n",
      "0.9538620763620764\n",
      "[0.91362434 0.98798799 0.98368607 0.93963964 0.90081633]\n",
      "0.9451508719603957\n"
     ]
    }
   ],
   "source": [
    "datax = data.sample(frac=1) # need to randomize order of data\n",
    "actualx = datax['results']\n",
    "datax = datax.drop('results', axis=1)\n",
    "from tensorflow.keras.wrappers.scikit_learn import KerasClassifier\n",
    "nn_wrapper = KerasClassifier(build_fn=build_model, \n",
    "                                 epochs=EPOCHS,  \n",
    "                                 verbose=0)\n",
    "#nn_score = cross_val_score(nn_wrapper, datax, actualx, cv=5)\n",
    "#print(nn_score)\n",
    "#print(np.mean(nn_score))\n",
    "nn_score = cross_validate(nn_wrapper, datax, actualx, cv=5, scoring=('accuracy', 'precision_macro', 'recall_macro', 'f1_macro'))\n",
    "print(nn_score['test_accuracy'])\n",
    "print(np.mean(nn_score['test_accuracy']))\n",
    "print(nn_score['test_precision_macro'])\n",
    "print(np.mean(nn_score['test_precision_macro']))\n",
    "print(nn_score['test_recall_macro'])\n",
    "print(np.mean(nn_score['test_recall_macro']))\n",
    "print(nn_score['test_f1_macro'])\n",
    "print(np.mean(nn_score['test_f1_macro']))"
   ]
  },
  {
   "cell_type": "code",
   "execution_count": null,
   "metadata": {},
   "outputs": [],
   "source": []
  },
  {
   "cell_type": "code",
   "execution_count": null,
   "metadata": {},
   "outputs": [],
   "source": []
  }
 ],
 "metadata": {
  "kernelspec": {
   "display_name": "Python 3",
   "language": "python",
   "name": "python3"
  },
  "language_info": {
   "codemirror_mode": {
    "name": "ipython",
    "version": 3
   },
   "file_extension": ".py",
   "mimetype": "text/x-python",
   "name": "python",
   "nbconvert_exporter": "python",
   "pygments_lexer": "ipython3",
   "version": "3.7.3"
  }
 },
 "nbformat": 4,
 "nbformat_minor": 2
}
